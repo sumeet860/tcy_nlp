{
 "cells": [
  {
   "cell_type": "code",
   "execution_count": 1,
   "id": "171b0b94",
   "metadata": {},
   "outputs": [],
   "source": [
    "import spacy\n",
    "nlp = spacy.load(\"en_core_web_md\")\n"
   ]
  },
  {
   "cell_type": "code",
   "execution_count": 18,
   "id": "aeda7ae1",
   "metadata": {},
   "outputs": [
    {
     "name": "stdout",
     "output_type": "stream",
     "text": [
      "He was an introvert that extroverts seemed to love.\n"
     ]
    }
   ],
   "source": [
    "text = open(\"./data/TCY/text.txt\").read()\n",
    "org_text = nlp(text)\n",
    "print(org_text)"
   ]
  },
  {
   "cell_type": "code",
   "execution_count": 19,
   "id": "16c9c77e",
   "metadata": {},
   "outputs": [
    {
     "name": "stdout",
     "output_type": "stream",
     "text": [
      "He was an observer that character seemed to hatred.\n"
     ]
    }
   ],
   "source": [
    "ans1 = open(\"./data/TCY/ans1.txt\").read()\n",
    "ans1_text = nlp(ans1)\n",
    "print(ans1_text)"
   ]
  },
  {
   "cell_type": "code",
   "execution_count": 20,
   "id": "c9cb75f8",
   "metadata": {},
   "outputs": [
    {
     "name": "stdout",
     "output_type": "stream",
     "text": [
      "He was an homebody that show-off seemed to dislike.\n"
     ]
    }
   ],
   "source": [
    "ans2 = open(\"./data/TCY/ans2.txt\").read()\n",
    "ans2_text = nlp(ans2)\n",
    "print(ans2_text)"
   ]
  },
  {
   "cell_type": "code",
   "execution_count": 21,
   "id": "3e65ee73",
   "metadata": {},
   "outputs": [
    {
     "name": "stdout",
     "output_type": "stream",
     "text": [
      "He was an brooder that exhibitionist seemed to hate.\n"
     ]
    }
   ],
   "source": [
    "ans3 = open(\"./data/TCY/ans3.txt\").read()\n",
    "ans3_text = nlp(ans3)\n",
    "print(ans3_text)"
   ]
  },
  {
   "cell_type": "code",
   "execution_count": 22,
   "id": "8badca3c",
   "metadata": {},
   "outputs": [
    {
     "data": {
      "text/plain": [
       "0.985786184394417"
      ]
     },
     "execution_count": 22,
     "metadata": {},
     "output_type": "execute_result"
    }
   ],
   "source": [
    "org_text.similarity(ans1_text)"
   ]
  },
  {
   "cell_type": "code",
   "execution_count": 23,
   "id": "56d13304",
   "metadata": {},
   "outputs": [
    {
     "data": {
      "text/plain": [
       "0.9435755558333906"
      ]
     },
     "execution_count": 23,
     "metadata": {},
     "output_type": "execute_result"
    }
   ],
   "source": [
    "org_text.similarity(ans2_text)"
   ]
  },
  {
   "cell_type": "code",
   "execution_count": 24,
   "id": "73f0e01d",
   "metadata": {},
   "outputs": [
    {
     "data": {
      "text/plain": [
       "0.9778046282086769"
      ]
     },
     "execution_count": 24,
     "metadata": {},
     "output_type": "execute_result"
    }
   ],
   "source": [
    "org_text.similarity(ans3_text)"
   ]
  },
  {
   "cell_type": "code",
   "execution_count": 10,
   "id": "516710bb",
   "metadata": {},
   "outputs": [
    {
     "data": {
      "text/plain": [
       "He was an introvert that extroverts seemed to love."
      ]
     },
     "execution_count": 10,
     "metadata": {},
     "output_type": "execute_result"
    }
   ],
   "source": [
    "org_text"
   ]
  },
  {
   "cell_type": "code",
   "execution_count": null,
   "id": "0d44474f",
   "metadata": {},
   "outputs": [],
   "source": []
  }
 ],
 "metadata": {
  "kernelspec": {
   "display_name": "Python 3 (ipykernel)",
   "language": "python",
   "name": "python3"
  },
  "language_info": {
   "codemirror_mode": {
    "name": "ipython",
    "version": 3
   },
   "file_extension": ".py",
   "mimetype": "text/x-python",
   "name": "python",
   "nbconvert_exporter": "python",
   "pygments_lexer": "ipython3",
   "version": "3.10.7"
  }
 },
 "nbformat": 4,
 "nbformat_minor": 5
}
